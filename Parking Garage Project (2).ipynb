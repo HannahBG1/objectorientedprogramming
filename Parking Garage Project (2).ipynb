{
 "cells": [
  {
   "cell_type": "markdown",
   "metadata": {},
   "source": [
    "# Parking Garage Project\n",
    "\n",
    "Your assignment for today is to create a parking garage class to get more familiar with Object Oriented Programming(OOP). \n",
    "\n",
    "Your parking gargage class should have the following methods:\n",
    "- takeTicket\n",
    "   - This should decrease the amount of tickets available by 1\n",
    "   - This should decrease the amount of parkingSpaces available by 1\n",
    "- payForParking\n",
    "   - Display an input that waits for an amount from the user and store it in a variable\n",
    "   - If the payment variable is not empty then ->  display a message to the user that their ticket has been paid and they have 15mins to leave\n",
    "   - This should update the \"currentTicket\" dictionary key \"paid\" to True\n",
    "-leaveGarage\n",
    "   - If the ticket has been paid, display a message of \"Thank You, have a nice day\"\n",
    "   - If the ticket has not been paid, display an input prompt for payment\n",
    "      - Once paid, display message \"Thank you, have a nice day!\"\n",
    "   - Update parkingSpaces list to increase by 1\n",
    "   - Update tickets list to increase by 1\n",
    "\n",
    "You will need a few attributes as well:\n",
    "- tickets -> list\n",
    "- parkingSpaces -> list\n",
    "- currentTicket -> dictionary"
   ]
  },
  {
   "cell_type": "code",
   "execution_count": 15,
   "metadata": {},
   "outputs": [
    {
     "name": "stdout",
     "output_type": "stream",
     "text": [
      "Ticket 1 isssued. Please proceed to parking space 2.\n",
      "Sorry, the parking garage is full.\n"
     ]
    }
   ],
   "source": [
    "class ParkingGarage:\n",
    "    def __init__(self):\n",
    "        self.tickets = [1, 2, 3, 4, 5] # List of available tickets\n",
    "        self.parkingSpaces = [None, None, None, None, None] # List of parking spaces\n",
    "        self.currentTicket = {} # Dictionary to track parked cars and their corresponding tickets \n",
    "\n",
    "    def takeTicket(self):\n",
    "        if len(self.tickets) > 0:\n",
    "            ticket = self.tickets.pop(0) # Remove the first available ticket\n",
    "            for i in range(len(self.parkingSpaces)):\n",
    "                if self.parkingSpaces[i] is None:\n",
    "                    self.parkingSpaces[i] = ticket # Assign the ticket to the first avaialable parking space\n",
    "                    self.currentTicket[ticket] = i # Add an entry for the ticket and its corresponding parking space\n",
    "                    return f\"Ticket {ticket} isssued. Please proceed to parking space {i+2}.\"\n",
    "                else:\n",
    "                    return \"Sorry, the parking garage is full.\"\n",
    "                \n",
    "\n",
    "    def payForParking(self, ticket):\n",
    "        if ticket in self.currentTicket:\n",
    "            parkingSpace = self.currentTicket[ticket]\n",
    "            if self.parkingSpaces[parkingSpace] == ticket:\n",
    "                self.parkingSpaces[parkingSpace] = None # Clear the parking space\n",
    "                del self.currentTicket[ticket] # Remove the ticket the the current Ticket dictionary\n",
    "                return f\"payment succesful. Thank you for parking with us! You have 15 minutes to leave.\"\n",
    "            else:\n",
    "                return \"This ticket is not valid for the current parking space.\"\n",
    "        else:\n",
    "            return \"Invalid ticket number. Please try again.\"\n",
    "        \n",
    "    def addParkingSpace(self):\n",
    "        self.parkingSpaces.append(None) # Add a new parking space to the parkingSpaces list \n",
    "        self.tickets.append(self.tickets[-1] + 1) # Add a new ticket to the tickets list\n",
    "\n",
    "# Creating an instance of the ParkingGarage class\n",
    "garage = ParkingGarage()\n",
    "\n",
    "print(garage.takeTicket()) # output: Ticket 1 issued. Please proceed to parking space 1.\n",
    "garage.addParkingSpace()\n",
    "print(garage.takeTicket()) # output: Ticket 2 issued. Please proceed to parking space 2.\n",
    "\n",
    "\n",
    "\n",
    "\n",
    "                    \n",
    "\n",
    "\n",
    "\n"
   ]
  }
 ],
 "metadata": {
  "kernelspec": {
   "display_name": "Python 3",
   "language": "python",
   "name": "python3"
  },
  "language_info": {
   "codemirror_mode": {
    "name": "ipython",
    "version": 3
   },
   "file_extension": ".py",
   "mimetype": "text/x-python",
   "name": "python",
   "nbconvert_exporter": "python",
   "pygments_lexer": "ipython3",
   "version": "3.12.0"
  }
 },
 "nbformat": 4,
 "nbformat_minor": 2
}
